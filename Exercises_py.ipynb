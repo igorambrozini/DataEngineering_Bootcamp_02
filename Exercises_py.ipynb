{
 "cells": [
  {
   "cell_type": "markdown",
   "metadata": {},
   "source": [
    "Integers (int)"
   ]
  },
  {
   "cell_type": "code",
   "execution_count": 1,
   "metadata": {},
   "outputs": [
    {
     "name": "stdout",
     "output_type": "stream",
     "text": [
      "Sum =  15\n"
     ]
    }
   ],
   "source": [
    "# 1) Write a program that adds two integers entered by the user.\n",
    "N1 = int(input(\"Insert first number: \"))\n",
    "N2 = int(input(\"Insert second number: \"))\n",
    "\n",
    "print(\"Sum = \", N1+N2)"
   ]
  },
  {
   "cell_type": "code",
   "execution_count": 4,
   "metadata": {},
   "outputs": [
    {
     "name": "stdout",
     "output_type": "stream",
     "text": [
      "Result 6 / 5 =  1\n"
     ]
    }
   ],
   "source": [
    "# Create a program that takes a number from the user and calculates the remainder of dividing that number by 5.\n",
    "n_user = int(input(\"Insert a number: \"))\n",
    "\n",
    "print(f\"Result {n_user} / 5 = \", n_user%5)"
   ]
  },
  {
   "cell_type": "code",
   "execution_count": 5,
   "metadata": {},
   "outputs": [
    {
     "name": "stdout",
     "output_type": "stream",
     "text": [
      "Result 10 * 2 =  20\n"
     ]
    }
   ],
   "source": [
    "# 3) Develop a program that multiplies two user-supplied numbers and displays the result.\n",
    "N1_ = int(input(\"Insert first number: \"))\n",
    "N2_ = int(input(\"Insert second number: \"))\n",
    "\n",
    "print(f\"Result {N1_} * {N2_} = \", N1_*N2_)"
   ]
  },
  {
   "cell_type": "code",
   "execution_count": 12,
   "metadata": {},
   "outputs": [
    {
     "name": "stdout",
     "output_type": "stream",
     "text": [
      "Result 10 / 3 =  3.3333333333333335\n"
     ]
    }
   ],
   "source": [
    "# 4) Make a program that takes two integers and prints the integer division of the first by the second.\n",
    "N1__ = int(input(\"Insert first number: \"))\n",
    "N2__ = int(input(\"Insert second number: \"))\n",
    "\n",
    "print(f\"Result {N1__} / {N2__} = \", N1__/N2__)"
   ]
  },
  {
   "cell_type": "code",
   "execution_count": 14,
   "metadata": {},
   "outputs": [
    {
     "name": "stdout",
     "output_type": "stream",
     "text": [
      "Result 4 ^ 2 =  16\n"
     ]
    }
   ],
   "source": [
    "# 5) Write a program that calculates the square of a user-supplied number.\n",
    "N = int(input(\"Insert the number: \"))\n",
    "\n",
    "print(f\"Result {N} ^ 2 = \", N**2)"
   ]
  },
  {
   "cell_type": "markdown",
   "metadata": {},
   "source": [
    "Float"
   ]
  },
  {
   "cell_type": "code",
   "execution_count": null,
   "metadata": {},
   "outputs": [],
   "source": [
    "# 6) Write a program that receives two floating-point numbers and performs their addition.\n",
    "num1 = float(input(\"Enter the first floating-point number: \"))\n",
    "num2 = float(input(\"Enter the second floating-point number: \"))\n",
    "result = num1 + num2\n",
    "\n",
    "print(f\"The result of the addition is: {result}\")"
   ]
  },
  {
   "cell_type": "code",
   "execution_count": null,
   "metadata": {},
   "outputs": [],
   "source": [
    "# 7) Create a program that calculates the average of two floating-point numbers provided by the user.\n",
    "num1 = float(input(\"Enter the first floating-point number: \"))\n",
    "num2 = float(input(\"Enter the second floating-point number: \"))\n",
    "average = (num1 + num2) / 2\n",
    "\n",
    "print(f\"The average of the two numbers is: {average}\")"
   ]
  },
  {
   "cell_type": "code",
   "execution_count": null,
   "metadata": {},
   "outputs": [],
   "source": [
    "# 8) Develop a program that calculates the power of a number (base and exponent provided by the user).\n",
    "base = float(input(\"Enter the base number: \"))\n",
    "exponent = float(input(\"Enter the exponent: \"))\n",
    "result = base ** exponent\n",
    "\n",
    "print(f\"The result of {base} raised to the power of {exponent} is: {result}\")"
   ]
  },
  {
   "cell_type": "code",
   "execution_count": 2,
   "metadata": {},
   "outputs": [
    {
     "name": "stdout",
     "output_type": "stream",
     "text": [
      "The temperature in Fahrenheit is: 86.0\n"
     ]
    }
   ],
   "source": [
    "# 9) Make a program that converts temperature from Celsius to Fahrenheit.\n",
    "temp = float(input(\"Enter the Celsius temperature  to convert: \"))\n",
    "calc = temp * (9/5) + 32\n",
    "\n",
    "print(f\"The temperature in Fahrenheit is: {calc}\")"
   ]
  },
  {
   "cell_type": "code",
   "execution_count": 10,
   "metadata": {},
   "outputs": [
    {
     "name": "stdout",
     "output_type": "stream",
     "text": [
      "Area of circle is: 12.57 m².\n"
     ]
    }
   ],
   "source": [
    "# 10) Write a program that calculates the area of a circle, receiving the radius as input.\n",
    "import math\n",
    "\n",
    "radius = float(input(\"Enter radius (m²):\"))\n",
    "area = (math.pi) * radius**2\n",
    "\n",
    "print(f\"Area of circle is: {area:.2f} m².\")\n"
   ]
  },
  {
   "cell_type": "markdown",
   "metadata": {},
   "source": [
    "Strings (str)"
   ]
  },
  {
   "cell_type": "code",
   "execution_count": 13,
   "metadata": {},
   "outputs": [
    {
     "name": "stdout",
     "output_type": "stream",
     "text": [
      "The string in uppercase is: MY LITTLE BOOK.\n"
     ]
    }
   ],
   "source": [
    "# 11) Write a program that receives a string from the user and converts it to uppercase.\n",
    "user_string = input(\"Enter a string: \")\n",
    "upper_string = user_string.upper()\n",
    "\n",
    "print(f\"The string in uppercase is: {upper_string}\")"
   ]
  },
  {
   "cell_type": "code",
   "execution_count": 16,
   "metadata": {},
   "outputs": [
    {
     "name": "stdout",
     "output_type": "stream",
     "text": [
      "Your name in lowercase is: elon musk\n"
     ]
    }
   ],
   "source": [
    "# 12) Create a program that receives the user's full name and prints the name with all letters in lowercase.\n",
    "full_name = input(\"Enter your full name: \")\n",
    "lower_name = full_name.lower()\n",
    "\n",
    "print(f\"Your name in lowercase is: {lower_name}\")"
   ]
  },
  {
   "cell_type": "code",
   "execution_count": 21,
   "metadata": {},
   "outputs": [
    {
     "name": "stdout",
     "output_type": "stream",
     "text": [
      "Your sentence without leading and trailing withspace is:Setence with leading and trailing withspace\n"
     ]
    }
   ],
   "source": [
    "# 13) Develop a program that asks the user to enter a sentence and then prints this sentence without leading and trailing whitespace.\n",
    "setence = input(\"Enter a sentence: \")\n",
    "trimmed_setence = setence.strip()\n",
    "\n",
    "print(f\"Your sentence without leading and trailing withspace is:{trimmed_setence}\")"
   ]
  },
  {
   "cell_type": "code",
   "execution_count": 22,
   "metadata": {},
   "outputs": [
    {
     "name": "stdout",
     "output_type": "stream",
     "text": [
      "Day: 18\n",
      "Month: 08\n",
      "Year: 2024\n"
     ]
    }
   ],
   "source": [
    "# 14) Make a program that asks the user to enter a date in the format \"dd/mm/yyyy\" and then prints the day, month, and year separately.\n",
    "date_str = input(\"Enter a date (dd/mm/yyyy): \")\n",
    "day, month, year = date_str.split('/')\n",
    "\n",
    "print(f\"Day: {day}\")\n",
    "print(f\"Month: {month}\")\n",
    "print(f\"Year: {year}\")"
   ]
  },
  {
   "cell_type": "code",
   "execution_count": 24,
   "metadata": {},
   "outputs": [
    {
     "name": "stdout",
     "output_type": "stream",
     "text": [
      "The concatenated string is: AppleCar\n"
     ]
    }
   ],
   "source": [
    "# 15) Write a program that concatenates two strings provided by the user.\n",
    "string1 = input(\"Enter the first string: \")\n",
    "string2 = input(\"Enter the second string: \")\n",
    "concatenated_string = string1 + string2\n",
    "\n",
    "print(f\"The concatenated string is: {concatenated_string}\")"
   ]
  },
  {
   "cell_type": "code",
   "execution_count": null,
   "metadata": {},
   "outputs": [],
   "source": []
  }
 ],
 "metadata": {
  "kernelspec": {
   "display_name": ".venv",
   "language": "python",
   "name": "python3"
  },
  "language_info": {
   "codemirror_mode": {
    "name": "ipython",
    "version": 3
   },
   "file_extension": ".py",
   "mimetype": "text/x-python",
   "name": "python",
   "nbconvert_exporter": "python",
   "pygments_lexer": "ipython3",
   "version": "3.12.5"
  }
 },
 "nbformat": 4,
 "nbformat_minor": 2
}
