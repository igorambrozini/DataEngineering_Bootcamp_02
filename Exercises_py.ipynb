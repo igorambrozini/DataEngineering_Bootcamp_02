{
 "cells": [
  {
   "cell_type": "markdown",
   "metadata": {},
   "source": [
    "Integers (int)"
   ]
  },
  {
   "cell_type": "code",
   "execution_count": 1,
   "metadata": {},
   "outputs": [
    {
     "name": "stdout",
     "output_type": "stream",
     "text": [
      "Sum =  15\n"
     ]
    }
   ],
   "source": [
    "# 1) Write a program that adds two integers entered by the user.\n",
    "N1 = int(input(\"Insert first number: \"))\n",
    "N2 = int(input(\"Insert second number: \"))\n",
    "\n",
    "print(\"Sum = \", N1+N2)"
   ]
  },
  {
   "cell_type": "code",
   "execution_count": 4,
   "metadata": {},
   "outputs": [
    {
     "name": "stdout",
     "output_type": "stream",
     "text": [
      "Result 6 / 5 =  1\n"
     ]
    }
   ],
   "source": [
    "# Create a program that takes a number from the user and calculates the remainder of dividing that number by 5.\n",
    "n_user = int(input(\"Insert a number: \"))\n",
    "\n",
    "print(f\"Result {n_user} / 5 = \", n_user%5)"
   ]
  },
  {
   "cell_type": "code",
   "execution_count": 5,
   "metadata": {},
   "outputs": [
    {
     "name": "stdout",
     "output_type": "stream",
     "text": [
      "Result 10 * 2 =  20\n"
     ]
    }
   ],
   "source": [
    "# 3) Develop a program that multiplies two user-supplied numbers and displays the result.\n",
    "N1_ = int(input(\"Insert first number: \"))\n",
    "N2_ = int(input(\"Insert second number: \"))\n",
    "\n",
    "print(f\"Result {N1_} * {N2_} = \", N1_*N2_)"
   ]
  },
  {
   "cell_type": "code",
   "execution_count": 12,
   "metadata": {},
   "outputs": [
    {
     "name": "stdout",
     "output_type": "stream",
     "text": [
      "Result 10 / 3 =  3.3333333333333335\n"
     ]
    }
   ],
   "source": [
    "# 4) Make a program that takes two integers and prints the integer division of the first by the second.\n",
    "N1__ = int(input(\"Insert first number: \"))\n",
    "N2__ = int(input(\"Insert second number: \"))\n",
    "\n",
    "print(f\"Result {N1__} / {N2__} = \", N1__/N2__)"
   ]
  },
  {
   "cell_type": "code",
   "execution_count": 14,
   "metadata": {},
   "outputs": [
    {
     "name": "stdout",
     "output_type": "stream",
     "text": [
      "Result 4 ^ 2 =  16\n"
     ]
    }
   ],
   "source": [
    "# 5) Write a program that calculates the square of a user-supplied number.\n",
    "N = int(input(\"Insert the number: \"))\n",
    "\n",
    "print(f\"Result {N} ^ 2 = \", N**2)"
   ]
  },
  {
   "cell_type": "markdown",
   "metadata": {},
   "source": [
    "Float"
   ]
  },
  {
   "cell_type": "code",
   "execution_count": null,
   "metadata": {},
   "outputs": [],
   "source": []
  }
 ],
 "metadata": {
  "kernelspec": {
   "display_name": ".venv",
   "language": "python",
   "name": "python3"
  },
  "language_info": {
   "codemirror_mode": {
    "name": "ipython",
    "version": 3
   },
   "file_extension": ".py",
   "mimetype": "text/x-python",
   "name": "python",
   "nbconvert_exporter": "python",
   "pygments_lexer": "ipython3",
   "version": "3.12.5"
  }
 },
 "nbformat": 4,
 "nbformat_minor": 2
}
